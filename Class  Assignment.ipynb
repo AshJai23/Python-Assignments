{
 "cells": [
  {
   "cell_type": "code",
   "execution_count": 19,
   "id": "b98c7cff",
   "metadata": {},
   "outputs": [
    {
     "name": "stdout",
     "output_type": "stream",
     "text": [
      "Sub-fields in AI are:\n",
      "Machine Learning\n",
      "Neural Networks\n",
      "Vision\n",
      "Robotics\n",
      "Speech Processing\n",
      "Natural Language Processing\n"
     ]
    }
   ],
   "source": [
    "#Create a class and function, and list out the items in the list\n",
    "class SubfieldsInAI:\n",
    "    def Subfields():\n",
    "        SubfieldsInAI = [\"Machine Learning\", \"Neural Networks\", \"Vision\", \"Robotics\", \"Speech Processing\", \"Natural Language Processing\"]\n",
    "        print(\"Sub-fields in AI are:\")\n",
    "        for subfield in SubfieldsInAI:\n",
    "            print(subfield)\n",
    "    \n",
    "SubfieldsInAI.Subfields()\n",
    "\n",
    "   \n",
    "   \n",
    "\n"
   ]
  },
  {
   "cell_type": "code",
   "execution_count": 20,
   "id": "8b183e22",
   "metadata": {},
   "outputs": [],
   "source": [
    "#OddEven\n",
    "class OddEven:\n",
    "    def OddEven():\n",
    "        num = int(input(\"Enter a number: \"))\n",
    "        if ((num % 2)== 0):\n",
    "            print(num,\"is even Number\")\n",
    "            message = \"is even Number\"\n",
    "        else:\n",
    "            print(num,\"is odd Number\")\n",
    "            message = \"is odd Number\"\n",
    "        return message\n",
    "\n",
    "    "
   ]
  },
  {
   "cell_type": "code",
   "execution_count": 21,
   "id": "474f6741",
   "metadata": {},
   "outputs": [
    {
     "name": "stdout",
     "output_type": "stream",
     "text": [
      "Enter a number: 52452\n",
      "52452 is even Number\n"
     ]
    },
    {
     "data": {
      "text/plain": [
       "'is even Number'"
      ]
     },
     "execution_count": 21,
     "metadata": {},
     "output_type": "execute_result"
    }
   ],
   "source": [
    "OddEven.OddEven()"
   ]
  },
  {
   "cell_type": "code",
   "execution_count": 24,
   "id": "6937eaa9",
   "metadata": {},
   "outputs": [
    {
     "name": "stdout",
     "output_type": "stream",
     "text": [
      "Your Gender: Male\n",
      "Your Age: 25\n",
      "ELIGIBLE\n"
     ]
    },
    {
     "data": {
      "text/plain": [
       "'ELIGIBLE'"
      ]
     },
     "execution_count": 24,
     "metadata": {},
     "output_type": "execute_result"
    }
   ],
   "source": [
    "#ElegiblityforMarriage\n",
    "class ElegiblityForMarriage:\n",
    "    def Elegible():\n",
    "        person = input(\"Your Gender: \")\n",
    "        Age = int(input(\"Your Age: \"))\n",
    "        if (Age > 21):\n",
    "            print(\"ELIGIBLE\")\n",
    "            Message = \"ELIGIBLE\"\n",
    "        else:\n",
    "            print(\"NOT ELIGIBLE\")\n",
    "            Message = \"NOT ELIGIBLE\"\n",
    "        return Message\n",
    "ElegiblityForMarriage.Elegible()"
   ]
  },
  {
   "cell_type": "code",
   "execution_count": 25,
   "id": "0d661aed",
   "metadata": {},
   "outputs": [
    {
     "name": "stdout",
     "output_type": "stream",
     "text": [
      "Total: 468\n",
      "Percentage: 93.60000000000001\n"
     ]
    }
   ],
   "source": [
    "#calculate the percentage of your 10th mark\n",
    "\n",
    "class Findpercent:\n",
    "    def percentage():\n",
    "        Sub1=98\n",
    "        Sub2=87\n",
    "        Sub3=95\n",
    "        Sub4=95\n",
    "        Sub5=93\n",
    "        Total=Sub1+Sub2+Sub3+Sub4+Sub5\n",
    "        Percentage=Total/500*100\n",
    "        print(\"Total:\",Total)\n",
    "        print(\"Percentage:\",Percentage)\n",
    "Findpercent.percentage()\n",
    "  "
   ]
  },
  {
   "cell_type": "code",
   "execution_count": 45,
   "id": "f86dc9a1",
   "metadata": {},
   "outputs": [
    {
     "ename": "TypeError",
     "evalue": "Triangle.triangle() missing 1 required positional argument: 'self'",
     "output_type": "error",
     "traceback": [
      "\u001b[1;31m---------------------------------------------------------------------------\u001b[0m",
      "\u001b[1;31mTypeError\u001b[0m                                 Traceback (most recent call last)",
      "Cell \u001b[1;32mIn[45], line 25\u001b[0m\n\u001b[0;32m     22\u001b[0m         Perimeter_formula \u001b[38;5;241m=\u001b[39m \u001b[38;5;28mself\u001b[39m\u001b[38;5;241m.\u001b[39mcalculate_perimeter(Height1, Height2, Breadth)\n\u001b[0;32m     23\u001b[0m         \u001b[38;5;28mprint\u001b[39m(\u001b[38;5;124m\"\u001b[39m\u001b[38;5;124mPerimeter of Triangle:\u001b[39m\u001b[38;5;124m\"\u001b[39m, Perimeter_formula)\n\u001b[1;32m---> 25\u001b[0m Triangle\u001b[38;5;241m.\u001b[39mtriangle()\n",
      "\u001b[1;31mTypeError\u001b[0m: Triangle.triangle() missing 1 required positional argument: 'self'"
     ]
    }
   ],
   "source": [
    "#Perimeter of triangle using class and function\n",
    "\n",
    "class Triangle:\n",
    "    \n",
    "    def calculate_area(height, breadth):\n",
    "        area_formula = (height * breadth) / 2\n",
    "        return area_formula\n",
    "\n",
    "    def calculate_perimeter(height1, height2, breadth):\n",
    "        perimeter_formula = height1 + height2 + breadth\n",
    "        return perimeter_formula\n",
    "\n",
    "    def triangle(self):\n",
    "        Height = 32\n",
    "        Breadth = 34\n",
    "        Area_formula = self.calculate_area(Height, Breadth)\n",
    "        print(\"Area of Triangle:\", Area_formula)\n",
    "    \n",
    "        Height1 = 2\n",
    "        Height2 = 4\n",
    "        Breadth = 4\n",
    "        Perimeter_formula = self.calculate_perimeter(Height1, Height2, Breadth)\n",
    "        print(\"Perimeter of Triangle:\", Perimeter_formula)\n",
    "\n",
    "Triangle.triangle()\n",
    "       \n",
    "       "
   ]
  },
  {
   "cell_type": "code",
   "execution_count": null,
   "id": "a3d5fa7e",
   "metadata": {},
   "outputs": [],
   "source": []
  }
 ],
 "metadata": {
  "kernelspec": {
   "display_name": "Python 3 (ipykernel)",
   "language": "python",
   "name": "python3"
  },
  "language_info": {
   "codemirror_mode": {
    "name": "ipython",
    "version": 3
   },
   "file_extension": ".py",
   "mimetype": "text/x-python",
   "name": "python",
   "nbconvert_exporter": "python",
   "pygments_lexer": "ipython3",
   "version": "3.11.5"
  }
 },
 "nbformat": 4,
 "nbformat_minor": 5
}
