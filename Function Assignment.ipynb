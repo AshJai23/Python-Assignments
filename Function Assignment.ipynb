{
 "cells": [
  {
   "cell_type": "code",
   "execution_count": 71,
   "id": "b98c7cff",
   "metadata": {},
   "outputs": [
    {
     "name": "stdout",
     "output_type": "stream",
     "text": [
      "Sub-fields in AI are:\n",
      "Machine Learning\n",
      "Neural Networks\n",
      "Vision\n",
      "Robotics\n",
      "Speech Processing\n",
      "Natural Language Processing\n"
     ]
    }
   ],
   "source": [
    "#Create a class and function, and list out the items in the list\n",
    "def Subfields():\n",
    "    SubfieldsInAI = [\"Machine Learning\", \"Neural Networks\", \"Vision\", \"Robotics\", \"Speech Processing\", \"Natural Language Processing\"]\n",
    "    print(\"Sub-fields in AI are:\")\n",
    "    for subfield in SubfieldsInAI:\n",
    "        print(subfield)\n",
    "Subfields()\n"
   ]
  },
  {
   "cell_type": "code",
   "execution_count": 28,
   "id": "8b183e22",
   "metadata": {},
   "outputs": [],
   "source": [
    "#OddEven\n",
    "\n",
    "def OddEven():\n",
    "    num = int(input(\"Enter a number: \"))\n",
    "    if ((num % 2)== 0):\n",
    "        print(num,\"is even Number\")\n",
    "        message = \"is even Number\"\n",
    "    else:\n",
    "        print(num,\"is odd Number\")\n",
    "        message = \"is odd Number\"\n",
    "    return message\n",
    "    "
   ]
  },
  {
   "cell_type": "code",
   "execution_count": 29,
   "id": "474f6741",
   "metadata": {},
   "outputs": [
    {
     "name": "stdout",
     "output_type": "stream",
     "text": [
      "Enter a number: 52452\n",
      "52452 is even Number\n"
     ]
    }
   ],
   "source": [
    "message=OddEven()"
   ]
  },
  {
   "cell_type": "code",
   "execution_count": 37,
   "id": "6937eaa9",
   "metadata": {},
   "outputs": [
    {
     "name": "stdout",
     "output_type": "stream",
     "text": [
      "Your Gender: Male\n",
      "Your Age: 20\n",
      "NOT ELIGIBLE\n"
     ]
    }
   ],
   "source": [
    "#ElegiblityforMarriage\n",
    "\n",
    "def Elegible():\n",
    "    person = input(\"Your Gender: \")\n",
    "    Age = int(input(\"Your Age: \"))\n",
    "    if (Age > 21):\n",
    "        print(\"ELIGIBLE\")\n",
    "        Message = \"ELIGIBLE\"\n",
    "    else:\n",
    "        print(\"NOT ELIGIBLE\")\n",
    "        Message = \"NOT ELIGIBLE\"\n",
    "    return Message\n",
    "ElegiblityforMarriage=Elegible()"
   ]
  },
  {
   "cell_type": "code",
   "execution_count": 52,
   "id": "dbd0f00d",
   "metadata": {},
   "outputs": [
    {
     "name": "stdout",
     "output_type": "stream",
     "text": [
      "Total: 468\n",
      "Percentage: 93.60000000000001\n"
     ]
    }
   ],
   "source": [
    "#calculate the percentage of your 10th mark\n",
    "def percentage():\n",
    "    Sub1=98\n",
    "    Sub2=87\n",
    "    Sub3=95\n",
    "    Sub4=95\n",
    "    Sub5=93\n",
    "    Total=Sub1+Sub2+Sub3+Sub4+Sub5\n",
    "    Percentage=Total/500*100\n",
    "    print(\"Total:\",Total)\n",
    "    print(\"Percentage:\",Percentage)\n",
    "percentage()\n",
    "       \n",
    "       "
   ]
  },
  {
   "cell_type": "code",
   "execution_count": 70,
   "id": "ac6885ef",
   "metadata": {},
   "outputs": [
    {
     "name": "stdout",
     "output_type": "stream",
     "text": [
      "Area of Triangle: 544.0\n",
      "Perimeter of Triangle: 10\n"
     ]
    }
   ],
   "source": [
    "def calculate_area(height, breadth):\n",
    "    area_formula = (height * breadth) / 2\n",
    "    return area_formula\n",
    "\n",
    "def calculate_perimeter(height1, height2, breadth):\n",
    "    perimeter_formula = height1 + height2 + breadth\n",
    "    return perimeter_formula\n",
    "\n",
    "def triangle():\n",
    "    Height = 32\n",
    "    Breadth = 34\n",
    "    Area_formula = calculate_area(Height, Breadth)\n",
    "    print(\"Area of Triangle:\", Area_formula)\n",
    "    \n",
    "    Height1 = 2\n",
    "    Height2 = 4\n",
    "    Breadth = 4\n",
    "    Perimeter_formula = calculate_perimeter(Height1, Height2, Breadth)\n",
    "    print(\"Perimeter of Triangle:\", Perimeter_formula)\n",
    "\n",
    "triangle()\n",
    "\n"
   ]
  },
  {
   "cell_type": "code",
   "execution_count": null,
   "id": "1723adbe",
   "metadata": {},
   "outputs": [],
   "source": []
  }
 ],
 "metadata": {
  "kernelspec": {
   "display_name": "Python 3 (ipykernel)",
   "language": "python",
   "name": "python3"
  },
  "language_info": {
   "codemirror_mode": {
    "name": "ipython",
    "version": 3
   },
   "file_extension": ".py",
   "mimetype": "text/x-python",
   "name": "python",
   "nbconvert_exporter": "python",
   "pygments_lexer": "ipython3",
   "version": "3.11.5"
  }
 },
 "nbformat": 4,
 "nbformat_minor": 5
}
