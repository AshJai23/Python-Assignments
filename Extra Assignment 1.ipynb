{
 "cells": [
  {
   "cell_type": "code",
   "execution_count": 1,
   "id": "8995d1ca",
   "metadata": {},
   "outputs": [
    {
     "name": "stdout",
     "output_type": "stream",
     "text": [
      "Hope AI\n"
     ]
    }
   ],
   "source": [
    "#1\n",
    "print(\"Hope AI\")"
   ]
  },
  {
   "cell_type": "code",
   "execution_count": 2,
   "id": "6ff63409",
   "metadata": {},
   "outputs": [
    {
     "name": "stdout",
     "output_type": "stream",
     "text": [
      "Enter your Institute name?Hope AI\n"
     ]
    }
   ],
   "source": [
    "#2 buy input\n",
    "Institute=input(\"Enter your Institute name?\")"
   ]
  },
  {
   "cell_type": "code",
   "execution_count": 3,
   "id": "35c5772b",
   "metadata": {},
   "outputs": [
    {
     "name": "stdout",
     "output_type": "stream",
     "text": [
      "Enter your Name:Raj\n",
      "Enter your age:15\n",
      "Enter your school name:Guru school\n",
      "Enter your degree:B.E CSE\n"
     ]
    }
   ],
   "source": [
    "#3 buy input2\n",
    "\n",
    "Name=input(\"Enter your Name:\")\n",
    "Age=int(input(\"Enter your age:\"))\n",
    "School=input(\"Enter your school name:\")\n",
    "Degree=input(\"Enter your degree:\")"
   ]
  },
  {
   "cell_type": "code",
   "execution_count": 12,
   "id": "d5db0fa1",
   "metadata": {},
   "outputs": [
    {
     "name": "stdout",
     "output_type": "stream",
     "text": [
      "a=43\n",
      "b=34\n",
      "add= 77\n"
     ]
    }
   ],
   "source": [
    "#4 Addition \n",
    "\n",
    "a= int(input(\"a=\"))\n",
    "b=int(input(\"b=\"))\n",
    "add=a+b\n",
    "print(\"add=\",add)"
   ]
  },
  {
   "cell_type": "code",
   "execution_count": 13,
   "id": "4ba59e7d",
   "metadata": {},
   "outputs": [
    {
     "name": "stdout",
     "output_type": "stream",
     "text": [
      "a=43\n",
      "b=34\n",
      "sub= 9\n"
     ]
    }
   ],
   "source": [
    "#5 Subtraction\n",
    "\n",
    "a= int(input(\"a=\"))\n",
    "b=int(input(\"b=\"))\n",
    "sub=a-b\n",
    "print(\"sub=\",sub)"
   ]
  },
  {
   "cell_type": "code",
   "execution_count": 14,
   "id": "8b12d6fb",
   "metadata": {},
   "outputs": [
    {
     "name": "stdout",
     "output_type": "stream",
     "text": [
      "a=63\n",
      "b=97\n",
      "mul= 6111\n"
     ]
    }
   ],
   "source": [
    "#6 Multiplication\n",
    "\n",
    "a= int(input(\"a=\"))\n",
    "b=int(input(\"b=\"))\n",
    "mul=a*b\n",
    "print(\"mul=\",mul)"
   ]
  },
  {
   "cell_type": "code",
   "execution_count": 15,
   "id": "d099fcb4",
   "metadata": {},
   "outputs": [
    {
     "name": "stdout",
     "output_type": "stream",
     "text": [
      "a=76\n",
      "b=31\n",
      "div= 2.4516129032258065\n"
     ]
    }
   ],
   "source": [
    "#7 Division\n",
    "\n",
    "a= int(input(\"a=\"))\n",
    "b=int(input(\"b=\"))\n",
    "div=a/b\n",
    "print(\"div=\",div)"
   ]
  },
  {
   "cell_type": "code",
   "execution_count": 17,
   "id": "26289159",
   "metadata": {},
   "outputs": [
    {
     "name": "stdout",
     "output_type": "stream",
     "text": [
      "a=76\n",
      "b=31\n",
      "flodiv= 2\n"
     ]
    }
   ],
   "source": [
    "#8 Floor Div\n",
    "\n",
    "a= int(input(\"a=\"))\n",
    "b=int(input(\"b=\"))\n",
    "flodiv=a//b\n",
    "print(\"flodiv=\",flodiv)"
   ]
  },
  {
   "cell_type": "code",
   "execution_count": 19,
   "id": "46677879",
   "metadata": {},
   "outputs": [
    {
     "name": "stdout",
     "output_type": "stream",
     "text": [
      "a=76\n",
      "b=31\n",
      "Mod= 14\n"
     ]
    }
   ],
   "source": [
    "#9 Modulo\n",
    "\n",
    "a= int(input(\"a=\"))\n",
    "b=int(input(\"b=\"))\n",
    "Mod=a%b\n",
    "print(\"Mod=\",Mod)"
   ]
  },
  {
   "cell_type": "code",
   "execution_count": 20,
   "id": "6c7a42a7",
   "metadata": {},
   "outputs": [
    {
     "name": "stdout",
     "output_type": "stream",
     "text": [
      "a=4\n",
      "b=4\n",
      "Power= 256\n"
     ]
    }
   ],
   "source": [
    "#10 Power\n",
    "\n",
    "a= int(input(\"a=\"))\n",
    "b=int(input(\"b=\"))\n",
    "Power=a**b\n",
    "print(\"Power=\",Power)"
   ]
  },
  {
   "cell_type": "code",
   "execution_count": null,
   "id": "81dadd0b",
   "metadata": {},
   "outputs": [],
   "source": []
  }
 ],
 "metadata": {
  "kernelspec": {
   "display_name": "Python 3 (ipykernel)",
   "language": "python",
   "name": "python3"
  },
  "language_info": {
   "codemirror_mode": {
    "name": "ipython",
    "version": 3
   },
   "file_extension": ".py",
   "mimetype": "text/x-python",
   "name": "python",
   "nbconvert_exporter": "python",
   "pygments_lexer": "ipython3",
   "version": "3.11.5"
  }
 },
 "nbformat": 4,
 "nbformat_minor": 5
}
