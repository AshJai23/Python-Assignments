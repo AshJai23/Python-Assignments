{
 "cells": [
  {
   "cell_type": "code",
   "execution_count": 3,
   "id": "87ee8c52",
   "metadata": {},
   "outputs": [
    {
     "name": "stdout",
     "output_type": "stream",
     "text": [
      "0\n",
      "1\n",
      "2\n",
      "3\n",
      "4\n",
      "5\n",
      "6\n",
      "7\n",
      "8\n",
      "9\n",
      "10\n",
      "11\n",
      "12\n",
      "13\n",
      "14\n",
      "15\n",
      "16\n",
      "17\n",
      "18\n",
      "19\n"
     ]
    }
   ],
   "source": [
    "#1 print 0 to 20 using range\n",
    "\n",
    "for i in range(0,20):\n",
    "    print(i)"
   ]
  },
  {
   "cell_type": "code",
   "execution_count": 9,
   "id": "0df81e35",
   "metadata": {},
   "outputs": [
    {
     "name": "stdout",
     "output_type": "stream",
     "text": [
      "10 11 12 13 14 15 16 17 18 19 "
     ]
    }
   ],
   "source": [
    "#2 print range 10 to 20\n",
    "\n",
    "for i in range(10,20):\n",
    "    print(i, end=' ')"
   ]
  },
  {
   "cell_type": "code",
   "execution_count": 3,
   "id": "224f3f02",
   "metadata": {},
   "outputs": [
    {
     "name": "stdout",
     "output_type": "stream",
     "text": [
      "Number of item in the Lists: 7\n"
     ]
    }
   ],
   "source": [
    "#print number of items in the list by using len\n",
    "Lists =[10, 20, 14, 55, 43, 87, 76]\n",
    "print(\"Number of item in the Lists:\",len(Lists))"
   ]
  },
  {
   "cell_type": "code",
   "execution_count": 7,
   "id": "ec3d7cd6",
   "metadata": {},
   "outputs": [
    {
     "name": "stdout",
     "output_type": "stream",
     "text": [
      "Artificial Intelligence\n",
      "A\n",
      "r\n",
      "t\n",
      "i\n",
      "f\n",
      "i\n",
      "c\n",
      "i\n",
      "a\n",
      "l\n",
      " \n",
      "I\n",
      "n\n",
      "t\n",
      "e\n",
      "l\n",
      "l\n",
      "i\n",
      "g\n",
      "e\n",
      "n\n",
      "c\n",
      "e\n"
     ]
    }
   ],
   "source": [
    "print(\"Artificial Intelligence\")\n",
    "for i in \"Artificial Intelligence\":\n",
    "    print(i)\n"
   ]
  },
  {
   "cell_type": "code",
   "execution_count": 8,
   "id": "c2e7dafa",
   "metadata": {},
   "outputs": [
    {
     "name": "stdout",
     "output_type": "stream",
     "text": [
      "1\n",
      "welcome\n",
      "2\n",
      "hope\n"
     ]
    }
   ],
   "source": [
    "# Print mixed datatype using tuples\n",
    "mixed_tuple = (1, 'welcome', 2, 'hope')\n",
    "for element in mixed_tuple:\n",
    "    print(element)\n"
   ]
  },
  {
   "cell_type": "code",
   "execution_count": 10,
   "id": "0432be54",
   "metadata": {},
   "outputs": [
    {
     "name": "stdout",
     "output_type": "stream",
     "text": [
      "(1, 'welcome', 2, 'hope')\n"
     ]
    }
   ],
   "source": [
    "print (mixed_tuple)"
   ]
  },
  {
   "cell_type": "code",
   "execution_count": 12,
   "id": "1c3d812b",
   "metadata": {},
   "outputs": [
    {
     "name": "stdout",
     "output_type": "stream",
     "text": [
      "(0, 1, 2, 3)\n",
      "('python', 'Hope')\n"
     ]
    }
   ],
   "source": [
    "#tuple2\n",
    "mixed_tuple2 = ((0,1,2,3), ('python', 'Hope'))\n",
    "for values in mixed_tuple2:\n",
    "    print(values)"
   ]
  },
  {
   "cell_type": "code",
   "execution_count": 13,
   "id": "b03c2d72",
   "metadata": {},
   "outputs": [
    {
     "name": "stdout",
     "output_type": "stream",
     "text": [
      "((0, 1, 2, 3), ('python', 'Hope'))\n"
     ]
    }
   ],
   "source": [
    "print(mixed_tuple2)"
   ]
  },
  {
   "cell_type": "code",
   "execution_count": 29,
   "id": "75f1f7d3",
   "metadata": {},
   "outputs": [
    {
     "name": "stdout",
     "output_type": "stream",
     "text": [
      "19 is odd\n",
      "25 is odd\n",
      "1 is odd\n"
     ]
    }
   ],
   "source": [
    "#print odd num\n",
    "Lists = [20, 10, 16, 19, 25, 1, 276, 188]\n",
    "#num = int(input(\"Enter the number:\"))\n",
    "for num1 in Lists:\n",
    "    if num1 % 2 != 0:\n",
    "        print( num1,\"is odd\")\n",
    "    #else:\n",
    "        #print(\"is even\",num1)\n",
    "    "
   ]
  },
  {
   "cell_type": "code",
   "execution_count": 30,
   "id": "123f69d5",
   "metadata": {},
   "outputs": [
    {
     "name": "stdout",
     "output_type": "stream",
     "text": [
      "[20, 10, 16, 19, 25, 1, 276, 188]\n",
      "20 is even\n",
      "10 is even\n",
      "16 is even\n",
      "276 is even\n",
      "188 is even\n"
     ]
    }
   ],
   "source": [
    "#print even num\n",
    "Lists = [20, 10, 16, 19, 25, 1, 276, 188]\n",
    "#num = int(input(\"Enter the number:\"))\n",
    "print(Lists)\n",
    "for num2 in Lists:\n",
    "    if num2 % 2 == 0:\n",
    "        print( num2,\"is even\")\n",
    "    #else:\n",
    "        #print(\"is odd\",num1)\n",
    "    "
   ]
  },
  {
   "cell_type": "code",
   "execution_count": null,
   "id": "7e2c3892",
   "metadata": {},
   "outputs": [],
   "source": []
  }
 ],
 "metadata": {
  "kernelspec": {
   "display_name": "Python 3 (ipykernel)",
   "language": "python",
   "name": "python3"
  },
  "language_info": {
   "codemirror_mode": {
    "name": "ipython",
    "version": 3
   },
   "file_extension": ".py",
   "mimetype": "text/x-python",
   "name": "python",
   "nbconvert_exporter": "python",
   "pygments_lexer": "ipython3",
   "version": "3.11.5"
  }
 },
 "nbformat": 4,
 "nbformat_minor": 5
}
