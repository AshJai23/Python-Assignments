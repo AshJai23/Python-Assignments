{
 "cells": [
  {
   "cell_type": "code",
   "execution_count": 7,
   "id": "f1aab1cf",
   "metadata": {},
   "outputs": [
    {
     "name": "stdout",
     "output_type": "stream",
     "text": [
      "Value:9\n",
      "CORRECT\n"
     ]
    }
   ],
   "source": [
    "#print 'CORRECT' if i == 10\n",
    "i= int(input(\"Value: \"))\n",
    "for i in range(1, 11):\n",
    "    if i == 10:\n",
    "        print('CORRECT')\n",
    "\n"
   ]
  },
  {
   "cell_type": "code",
   "execution_count": 2,
   "id": "c2ce8b50",
   "metadata": {},
   "outputs": [
    {
     "name": "stdout",
     "output_type": "stream",
     "text": [
      "Enter the password: Hope@23\n",
      "Your password is  incorrect\n"
     ]
    }
   ],
   "source": [
    "# Check Password, using if and else\n",
    "password = \"Hope@123\"\n",
    "passwd = input(str(\"Enter the password: \"))\n",
    "if passwd == password:\n",
    "    print(\"Your password is correct\")\n",
    "else:\n",
    "    print(\"Your password is  incorrect\")\n"
   ]
  },
  {
   "cell_type": "code",
   "execution_count": 3,
   "id": "77778836",
   "metadata": {},
   "outputs": [
    {
     "name": "stdout",
     "output_type": "stream",
     "text": [
      "Enter your password: secret123\n",
      "Password is correct.\n"
     ]
    }
   ],
   "source": [
    "correct_password = \"secret123\"\n",
    "\n",
    "user_password = str(input(\"Enter your password: \"))\n",
    "\n",
    "if user_password == correct_password:\n",
    "    print(\"Password is correct.\")\n",
    "else:\n",
    "    print(\"Incorrect password. Please try again.\")"
   ]
  },
  {
   "cell_type": "code",
   "execution_count": 10,
   "id": "2fd83cbd",
   "metadata": {},
   "outputs": [
    {
     "name": "stdout",
     "output_type": "stream",
     "text": [
      "age: 20\n",
      "Adult\n"
     ]
    }
   ],
   "source": [
    "#Catagory the people by their age like Children, adult, Citizen...\n",
    "\n",
    "Age = int(input(\"age: \"))\n",
    "if Age < 18:\n",
    "    print(\"Children\")\n",
    "elif Age < 36:\n",
    "    print(\"Adult\")\n",
    "elif Age <60:\n",
    "    print(\"Citizen\")\n",
    "else:\n",
    "    print(\"Senior Citizen\")"
   ]
  },
  {
   "cell_type": "code",
   "execution_count": 15,
   "id": "fdf25a8b",
   "metadata": {},
   "outputs": [
    {
     "name": "stdout",
     "output_type": "stream",
     "text": [
      "Enter any number: 1\n",
      "The number is postive.\n"
     ]
    }
   ],
   "source": [
    "#Find whether given number is positive or negative\n",
    "\n",
    "number = int(input(\"Enter any number: \"))\n",
    "if number < 0:\n",
    "    print(\"The number is negative.\")\n",
    "else:\n",
    "    print(\"The number is postive.\")"
   ]
  },
  {
   "cell_type": "code",
   "execution_count": 24,
   "id": "fc4e210d",
   "metadata": {},
   "outputs": [
    {
     "name": "stdout",
     "output_type": "stream",
     "text": [
      "Enter a number to check: 25\n",
      "No is divisible by 5\n"
     ]
    }
   ],
   "source": [
    "#Check whether the given number is divisible by 5\n",
    "\n",
    "number = int(input(\"Enter a number to check: \"))\n",
    "if number // 5:\n",
    "    print(\"No is divisible by 5\")\n",
    "else:\n",
    "    print(\"No is not divisible by 5\")"
   ]
  },
  {
   "cell_type": "code",
   "execution_count": null,
   "id": "9c599d6b",
   "metadata": {},
   "outputs": [],
   "source": []
  },
  {
   "cell_type": "code",
   "execution_count": null,
   "id": "32e67f80",
   "metadata": {},
   "outputs": [],
   "source": []
  }
 ],
 "metadata": {
  "kernelspec": {
   "display_name": "Python 3 (ipykernel)",
   "language": "python",
   "name": "python3"
  },
  "language_info": {
   "codemirror_mode": {
    "name": "ipython",
    "version": 3
   },
   "file_extension": ".py",
   "mimetype": "text/x-python",
   "name": "python",
   "nbconvert_exporter": "python",
   "pygments_lexer": "ipython3",
   "version": "3.11.5"
  }
 },
 "nbformat": 4,
 "nbformat_minor": 5
}
